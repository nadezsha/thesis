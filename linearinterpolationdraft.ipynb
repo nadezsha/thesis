{
 "cells": [
  {
   "cell_type": "code",
   "execution_count": null,
   "id": "3bef47e0",
   "metadata": {},
   "outputs": [],
   "source": [
    "#function for linear interpolation\n",
    "def interpol(x,y):\n",
    "    tck = interpolate.splrep(x, y, s=0)\n",
    "    xnew = x\n",
    "    ynew = interpolate.splev(xnew, tck, der=0)\n",
    "    return ynew"
   ]
  },
  {
   "cell_type": "code",
   "execution_count": null,
   "id": "b4d640ef",
   "metadata": {},
   "outputs": [],
   "source": [
    "#linear interpolation for the weather conditions\n",
    "y1=interpol(clobper,clrawper)\n",
    "y2=interpol(inobper,inrawper)\n",
    "y3=interpol(cdobper,cdrawper)"
   ]
  },
  {
   "cell_type": "code",
   "execution_count": null,
   "id": "51b45d4d",
   "metadata": {},
   "outputs": [],
   "source": [
    "#plot4 function for the corrected percentiles of mod and obs values\n",
    "def graph4(obper,rawper):\n",
    "    plt.figure(figsize=(10,10))\n",
    "    plt.plot(obper, num, color='red', label = \"obs\")\n",
    "    plt.plot(rawper, num,color='pink',label = \"raw\")\n",
    "    plt.show()"
   ]
  },
  {
   "cell_type": "code",
   "execution_count": null,
   "id": "6c3ad57f",
   "metadata": {},
   "outputs": [],
   "source": [
    "#checking whether method was successful  \n",
    "graph4(y3,cdobper) "
   ]
  }
 ],
 "metadata": {
  "kernelspec": {
   "display_name": "Python 3 (ipykernel)",
   "language": "python",
   "name": "python3"
  },
  "language_info": {
   "codemirror_mode": {
    "name": "ipython",
    "version": 3
   },
   "file_extension": ".py",
   "mimetype": "text/x-python",
   "name": "python",
   "nbconvert_exporter": "python",
   "pygments_lexer": "ipython3",
   "version": "3.9.7"
  }
 },
 "nbformat": 4,
 "nbformat_minor": 5
}




n=np.interp(cloudy['GHIraw'],cdrawper,cdobper)
plt.figure(figsize=(5,5))
plt.plot(cdrawper,cdobper, 'o',cloudy['GHIraw'], n, '-')
plt.xlabel('corrected mod percentile')
plt.ylabel('obs percentile')
plt.show()
